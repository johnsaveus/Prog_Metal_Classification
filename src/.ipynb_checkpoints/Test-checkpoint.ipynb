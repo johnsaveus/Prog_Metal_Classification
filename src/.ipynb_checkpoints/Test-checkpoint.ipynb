{
 "cells": [
  {
   "cell_type": "code",
   "execution_count": 36,
   "id": "13f3c61b",
   "metadata": {},
   "outputs": [],
   "source": [
    "import os\n",
    "import re\n",
    "\n",
    " # The original raw data need to be cleaned.\n",
    " # In this function 2 lists are made to extract the input(riff) and the labels(band name)\n",
    "\n",
    "def raw_to_list(path:str):\n",
    "    riff_list = []\n",
    "    label_list = []\n",
    "    for bands, albums, riffs in os.walk(path):\n",
    "        for riff in riffs:\n",
    "            path_to_riff = os.path.join(bands,riff)\n",
    "            riff_list.append(path_to_riff)\n",
    "            if path.endswith('train'):     \n",
    "                pattern = r'..\\\\raw_data\\\\train\\\\(.*?)(?:\\\\|$)'\n",
    "            elif path.endswith('test'):\n",
    "                pattern = r'..\\\\raw_data\\\\test\\\\(.*?)(?:\\\\|$)'\n",
    "            match = re.search(pattern,path_to_riff)\n",
    "            label = match.group(1) \n",
    "            label_list.append(label)\n",
    "\n",
    "    return riff_list, label_list"
   ]
  },
  {
   "cell_type": "code",
   "execution_count": 34,
   "id": "dd189ae5",
   "metadata": {},
   "outputs": [],
   "source": [
    "t1 , t2 = raw_to_list('..\\\\raw_data\\\\train')"
   ]
  },
  {
   "cell_type": "code",
   "execution_count": 35,
   "id": "ff7ef30e",
   "metadata": {},
   "outputs": [
    {
     "data": {
      "text/plain": [
       "['..\\\\raw_data\\\\train\\\\Dream_Theater\\\\A dramatic turn of events\\\\Breaking All Illusions_riff.wav',\n",
       " '..\\\\raw_data\\\\train\\\\Dream_Theater\\\\A dramatic turn of events\\\\Bridges in the Sky_riff.wav',\n",
       " '..\\\\raw_data\\\\train\\\\Dream_Theater\\\\A dramatic turn of events\\\\Build Me Up And Break Me Down_riff.wav',\n",
       " '..\\\\raw_data\\\\train\\\\Dream_Theater\\\\A dramatic turn of events\\\\Lost Not Forgotten_riff.wav',\n",
       " '..\\\\raw_data\\\\train\\\\Dream_Theater\\\\A dramatic turn of events\\\\On The Backs Of Angels_riff.wav']"
      ]
     },
     "execution_count": 35,
     "metadata": {},
     "output_type": "execute_result"
    }
   ],
   "source": [
    "t1[:5]"
   ]
  },
  {
   "cell_type": "code",
   "execution_count": null,
   "id": "72563857",
   "metadata": {},
   "outputs": [],
   "source": []
  }
 ],
 "metadata": {
  "kernelspec": {
   "display_name": "Python 3 (ipykernel)",
   "language": "python",
   "name": "python3"
  },
  "language_info": {
   "codemirror_mode": {
    "name": "ipython",
    "version": 3
   },
   "file_extension": ".py",
   "mimetype": "text/x-python",
   "name": "python",
   "nbconvert_exporter": "python",
   "pygments_lexer": "ipython3",
   "version": "3.8.10"
  }
 },
 "nbformat": 4,
 "nbformat_minor": 5
}

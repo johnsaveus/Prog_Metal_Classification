{
 "cells": [
  {
   "cell_type": "markdown",
   "id": "8688da65",
   "metadata": {},
   "source": [
    "### Firstly we load the raw_data and extract the .wav file and the labels(The 4 bands)\n",
    "\n",
    "#### Using data_import function to load the wav files and the labels"
   ]
  },
  {
   "cell_type": "code",
   "execution_count": 1,
   "id": "febebacc",
   "metadata": {},
   "outputs": [],
   "source": [
    "import pandas as pd\n",
    "import os\n",
    "import librosa\n",
    "from pyaudio_features import *\n",
    "\n",
    "wavs, labels = data_import('..\\\\raw_data')"
   ]
  },
  {
   "cell_type": "markdown",
   "id": "e77cab58",
   "metadata": {},
   "source": [
    "### Visualizing the information of the path riff files"
   ]
  },
  {
   "cell_type": "code",
   "execution_count": 2,
   "id": "622adf6d",
   "metadata": {},
   "outputs": [
    {
     "name": "stdout",
     "output_type": "stream",
     "text": [
      "Path format =  ..\\raw_data\\Dream_Theater\\A dramatic turn of events\\Outcry_riff.wav \n",
      "\n",
      "Band name: Dream_Theater \n",
      "\n",
      "Album: A dramatic turn of events \n",
      "\n",
      "Song: Outcry \n",
      "\n"
     ]
    }
   ],
   "source": [
    "print('Path format = ', wavs[5],'\\n')\n",
    "\n",
    "file_path_example = wavs[5]\n",
    "path_components = file_path_example.split(os.sep)\n",
    "\n",
    "# Extract the relevant information\n",
    "band = path_components[-3]\n",
    "album = path_components[-2]\n",
    "song = path_components[-1].replace('_riff.wav','')\n",
    "\n",
    "print(\"Band name:\", band, '\\n')\n",
    "print(\"Album:\", album, '\\n')\n",
    "print(\"Song:\", song, '\\n')"
   ]
  },
  {
   "cell_type": "code",
   "execution_count": 3,
   "id": "5a2afb74",
   "metadata": {},
   "outputs": [
    {
     "name": "stdout",
     "output_type": "stream",
     "text": [
      "Total Data is 200 riffs\n"
     ]
    }
   ],
   "source": [
    "print(f\"Total Data is {len(wavs)} riffs\")"
   ]
  },
  {
   "cell_type": "markdown",
   "id": "f3943732",
   "metadata": {},
   "source": [
    "### Check the length of some wav files"
   ]
  },
  {
   "cell_type": "code",
   "execution_count": 4,
   "id": "9082c450",
   "metadata": {},
   "outputs": [
    {
     "name": "stdout",
     "output_type": "stream",
     "text": [
      "Audio duration = 12.657551020408164 seconds\n",
      "Audio duration = 12.4 seconds\n",
      "Audio duration = 18.63501133786848 seconds\n",
      "Audio duration = 14.850702947845805 seconds\n",
      "Audio duration = 14.021224489795918 seconds\n",
      "Audio duration = 11.600544217687075 seconds\n",
      "Audio duration = 13.204036281179139 seconds\n",
      "Audio duration = 11.141360544217687 seconds\n",
      "Audio duration = 13.39578231292517 seconds\n",
      "Audio duration = 13.870022675736962 seconds\n"
     ]
    }
   ],
   "source": [
    "for wav in wavs[:10]:\n",
    "    y, _ = librosa.load(wav)\n",
    "    duration = librosa.get_duration(y=y, sr = 22050)\n",
    "    print(f\"Audio duration = {duration} seconds\")"
   ]
  },
  {
   "cell_type": "markdown",
   "id": "d9259b57",
   "metadata": {},
   "source": [
    "### Next step is to set each wav to 10 seconds each\n",
    "\n",
    "#### Using trim_wav function to get the array of the audio for 10 seconds"
   ]
  },
  {
   "cell_type": "code",
   "execution_count": 5,
   "id": "92f433b7",
   "metadata": {},
   "outputs": [],
   "source": [
    "y = trim_wav(wavs)"
   ]
  },
  {
   "cell_type": "markdown",
   "id": "baa4a30c",
   "metadata": {},
   "source": [
    "### From the y arrays we extract the features using pyAudioAnalysis\n",
    "\n",
    "#### Using pyaudio_featurize function\n",
    "\n",
    "#### This takes a long time to run "
   ]
  },
  {
   "cell_type": "code",
   "execution_count": 6,
   "id": "a49a996b",
   "metadata": {},
   "outputs": [],
   "source": [
    "from pyaudio_features import *\n",
    "import warnings\n",
    "\n",
    "warnings.simplefilter('ignore')\n",
    "\n",
    "dataframe = pyaudio_featurize(y)"
   ]
  },
  {
   "cell_type": "markdown",
   "id": "5229088b",
   "metadata": {},
   "source": [
    "### The extracted features are 68 for each (30) seconds as calculated with pyAudioAnalysis package.\n",
    "### From those 64 features we extract the mean and the standard deviation.\n",
    "### Each instance now consists of a feature vector with 136 features."
   ]
  },
  {
   "cell_type": "code",
   "execution_count": 7,
   "id": "8ecb55ae",
   "metadata": {},
   "outputs": [
    {
     "name": "stdout",
     "output_type": "stream",
     "text": [
      "Dataframe\n"
     ]
    },
    {
     "data": {
      "text/html": [
       "<div>\n",
       "<style scoped>\n",
       "    .dataframe tbody tr th:only-of-type {\n",
       "        vertical-align: middle;\n",
       "    }\n",
       "\n",
       "    .dataframe tbody tr th {\n",
       "        vertical-align: top;\n",
       "    }\n",
       "\n",
       "    .dataframe thead th {\n",
       "        text-align: right;\n",
       "    }\n",
       "</style>\n",
       "<table border=\"1\" class=\"dataframe\">\n",
       "  <thead>\n",
       "    <tr style=\"text-align: right;\">\n",
       "      <th></th>\n",
       "      <th>zcr_mean</th>\n",
       "      <th>energy_mean</th>\n",
       "      <th>energy_entropy_mean</th>\n",
       "      <th>spectral_centroid_mean</th>\n",
       "      <th>spectral_spread_mean</th>\n",
       "      <th>spectral_entropy_mean</th>\n",
       "      <th>spectral_flux_mean</th>\n",
       "      <th>spectral_rolloff_mean</th>\n",
       "      <th>mfcc_1_mean</th>\n",
       "      <th>mfcc_2_mean</th>\n",
       "      <th>...</th>\n",
       "      <th>delta chroma_4_std</th>\n",
       "      <th>delta chroma_5_std</th>\n",
       "      <th>delta chroma_6_std</th>\n",
       "      <th>delta chroma_7_std</th>\n",
       "      <th>delta chroma_8_std</th>\n",
       "      <th>delta chroma_9_std</th>\n",
       "      <th>delta chroma_10_std</th>\n",
       "      <th>delta chroma_11_std</th>\n",
       "      <th>delta chroma_12_std</th>\n",
       "      <th>delta chroma_std_std</th>\n",
       "    </tr>\n",
       "  </thead>\n",
       "  <tbody>\n",
       "    <tr>\n",
       "      <th>0</th>\n",
       "      <td>0.105710</td>\n",
       "      <td>0.055723</td>\n",
       "      <td>3.053597</td>\n",
       "      <td>0.217957</td>\n",
       "      <td>0.239820</td>\n",
       "      <td>0.695104</td>\n",
       "      <td>0.001577</td>\n",
       "      <td>0.109814</td>\n",
       "      <td>-20.855312</td>\n",
       "      <td>1.911188</td>\n",
       "      <td>...</td>\n",
       "      <td>0.021739</td>\n",
       "      <td>0.018734</td>\n",
       "      <td>0.039033</td>\n",
       "      <td>0.022345</td>\n",
       "      <td>0.005291</td>\n",
       "      <td>0.012969</td>\n",
       "      <td>0.026643</td>\n",
       "      <td>0.022178</td>\n",
       "      <td>0.033123</td>\n",
       "      <td>0.014227</td>\n",
       "    </tr>\n",
       "    <tr>\n",
       "      <th>1</th>\n",
       "      <td>0.099929</td>\n",
       "      <td>0.051860</td>\n",
       "      <td>2.945046</td>\n",
       "      <td>0.219332</td>\n",
       "      <td>0.243923</td>\n",
       "      <td>0.628016</td>\n",
       "      <td>0.001475</td>\n",
       "      <td>0.092321</td>\n",
       "      <td>-20.900489</td>\n",
       "      <td>2.061422</td>\n",
       "      <td>...</td>\n",
       "      <td>0.035314</td>\n",
       "      <td>0.023725</td>\n",
       "      <td>0.031425</td>\n",
       "      <td>0.024282</td>\n",
       "      <td>0.010639</td>\n",
       "      <td>0.014806</td>\n",
       "      <td>0.019003</td>\n",
       "      <td>0.019307</td>\n",
       "      <td>0.021064</td>\n",
       "      <td>0.007799</td>\n",
       "    </tr>\n",
       "    <tr>\n",
       "      <th>2</th>\n",
       "      <td>0.122507</td>\n",
       "      <td>0.040403</td>\n",
       "      <td>3.044921</td>\n",
       "      <td>0.234820</td>\n",
       "      <td>0.237650</td>\n",
       "      <td>0.940604</td>\n",
       "      <td>0.001130</td>\n",
       "      <td>0.182423</td>\n",
       "      <td>-20.776285</td>\n",
       "      <td>1.757447</td>\n",
       "      <td>...</td>\n",
       "      <td>0.031992</td>\n",
       "      <td>0.016582</td>\n",
       "      <td>0.032652</td>\n",
       "      <td>0.030027</td>\n",
       "      <td>0.005646</td>\n",
       "      <td>0.014284</td>\n",
       "      <td>0.018869</td>\n",
       "      <td>0.009644</td>\n",
       "      <td>0.016256</td>\n",
       "      <td>0.010675</td>\n",
       "    </tr>\n",
       "    <tr>\n",
       "      <th>3</th>\n",
       "      <td>0.097158</td>\n",
       "      <td>0.055385</td>\n",
       "      <td>2.993176</td>\n",
       "      <td>0.219220</td>\n",
       "      <td>0.243528</td>\n",
       "      <td>0.575079</td>\n",
       "      <td>0.002444</td>\n",
       "      <td>0.090808</td>\n",
       "      <td>-21.935915</td>\n",
       "      <td>1.985577</td>\n",
       "      <td>...</td>\n",
       "      <td>0.029330</td>\n",
       "      <td>0.011435</td>\n",
       "      <td>0.022172</td>\n",
       "      <td>0.058616</td>\n",
       "      <td>0.012178</td>\n",
       "      <td>0.019639</td>\n",
       "      <td>0.046416</td>\n",
       "      <td>0.027569</td>\n",
       "      <td>0.022451</td>\n",
       "      <td>0.018006</td>\n",
       "    </tr>\n",
       "    <tr>\n",
       "      <th>4</th>\n",
       "      <td>0.101324</td>\n",
       "      <td>0.056167</td>\n",
       "      <td>2.986543</td>\n",
       "      <td>0.219075</td>\n",
       "      <td>0.236040</td>\n",
       "      <td>0.705186</td>\n",
       "      <td>0.001545</td>\n",
       "      <td>0.113600</td>\n",
       "      <td>-20.841324</td>\n",
       "      <td>1.879387</td>\n",
       "      <td>...</td>\n",
       "      <td>0.029139</td>\n",
       "      <td>0.015227</td>\n",
       "      <td>0.029054</td>\n",
       "      <td>0.018910</td>\n",
       "      <td>0.014328</td>\n",
       "      <td>0.032411</td>\n",
       "      <td>0.017874</td>\n",
       "      <td>0.016125</td>\n",
       "      <td>0.023282</td>\n",
       "      <td>0.011299</td>\n",
       "    </tr>\n",
       "  </tbody>\n",
       "</table>\n",
       "<p>5 rows × 136 columns</p>\n",
       "</div>"
      ],
      "text/plain": [
       "   zcr_mean  energy_mean  energy_entropy_mean  spectral_centroid_mean  \\\n",
       "0  0.105710     0.055723             3.053597                0.217957   \n",
       "1  0.099929     0.051860             2.945046                0.219332   \n",
       "2  0.122507     0.040403             3.044921                0.234820   \n",
       "3  0.097158     0.055385             2.993176                0.219220   \n",
       "4  0.101324     0.056167             2.986543                0.219075   \n",
       "\n",
       "   spectral_spread_mean  spectral_entropy_mean  spectral_flux_mean  \\\n",
       "0              0.239820               0.695104            0.001577   \n",
       "1              0.243923               0.628016            0.001475   \n",
       "2              0.237650               0.940604            0.001130   \n",
       "3              0.243528               0.575079            0.002444   \n",
       "4              0.236040               0.705186            0.001545   \n",
       "\n",
       "   spectral_rolloff_mean  mfcc_1_mean  mfcc_2_mean  ...  delta chroma_4_std  \\\n",
       "0               0.109814   -20.855312     1.911188  ...            0.021739   \n",
       "1               0.092321   -20.900489     2.061422  ...            0.035314   \n",
       "2               0.182423   -20.776285     1.757447  ...            0.031992   \n",
       "3               0.090808   -21.935915     1.985577  ...            0.029330   \n",
       "4               0.113600   -20.841324     1.879387  ...            0.029139   \n",
       "\n",
       "   delta chroma_5_std  delta chroma_6_std  delta chroma_7_std  \\\n",
       "0            0.018734            0.039033            0.022345   \n",
       "1            0.023725            0.031425            0.024282   \n",
       "2            0.016582            0.032652            0.030027   \n",
       "3            0.011435            0.022172            0.058616   \n",
       "4            0.015227            0.029054            0.018910   \n",
       "\n",
       "   delta chroma_8_std  delta chroma_9_std  delta chroma_10_std  \\\n",
       "0            0.005291            0.012969             0.026643   \n",
       "1            0.010639            0.014806             0.019003   \n",
       "2            0.005646            0.014284             0.018869   \n",
       "3            0.012178            0.019639             0.046416   \n",
       "4            0.014328            0.032411             0.017874   \n",
       "\n",
       "   delta chroma_11_std  delta chroma_12_std  delta chroma_std_std  \n",
       "0             0.022178             0.033123              0.014227  \n",
       "1             0.019307             0.021064              0.007799  \n",
       "2             0.009644             0.016256              0.010675  \n",
       "3             0.027569             0.022451              0.018006  \n",
       "4             0.016125             0.023282              0.011299  \n",
       "\n",
       "[5 rows x 136 columns]"
      ]
     },
     "execution_count": 7,
     "metadata": {},
     "output_type": "execute_result"
    }
   ],
   "source": [
    "print(\"Dataframe\")\n",
    "dataframe.head()"
   ]
  },
  {
   "cell_type": "code",
   "execution_count": 8,
   "id": "5a192b5e",
   "metadata": {},
   "outputs": [
    {
     "name": "stdout",
     "output_type": "stream",
     "text": [
      "Index(['zcr_mean', 'energy_mean', 'energy_entropy_mean',\n",
      "       'spectral_centroid_mean', 'spectral_spread_mean',\n",
      "       'spectral_entropy_mean', 'spectral_flux_mean', 'spectral_rolloff_mean',\n",
      "       'mfcc_1_mean', 'mfcc_2_mean',\n",
      "       ...\n",
      "       'delta chroma_4_std', 'delta chroma_5_std', 'delta chroma_6_std',\n",
      "       'delta chroma_7_std', 'delta chroma_8_std', 'delta chroma_9_std',\n",
      "       'delta chroma_10_std', 'delta chroma_11_std', 'delta chroma_12_std',\n",
      "       'delta chroma_std_std'],\n",
      "      dtype='object', length=136)\n"
     ]
    }
   ],
   "source": [
    "pd.set_option('display.max_columns', None)\n",
    "print(dataframe.columns)"
   ]
  },
  {
   "cell_type": "markdown",
   "id": "bcdb7bcb",
   "metadata": {},
   "source": [
    "### Next step is to put the labels(bands) in the dataframe as well\n",
    "\n",
    "#### Using merge labels function\n",
    "\n",
    "#### Each of the four band names is assigned to an integer 0-3"
   ]
  },
  {
   "cell_type": "code",
   "execution_count": 9,
   "id": "8942e505",
   "metadata": {},
   "outputs": [],
   "source": [
    "merge_labels(dataframe,labels)"
   ]
  },
  {
   "cell_type": "code",
   "execution_count": 10,
   "id": "64012e5e",
   "metadata": {
    "scrolled": true
   },
   "outputs": [
    {
     "data": {
      "text/plain": [
       "0      0\n",
       "1      0\n",
       "2      0\n",
       "3      0\n",
       "4      0\n",
       "      ..\n",
       "195    3\n",
       "196    3\n",
       "197    3\n",
       "198    3\n",
       "199    3\n",
       "Name: Band, Length: 200, dtype: int64"
      ]
     },
     "execution_count": 10,
     "metadata": {},
     "output_type": "execute_result"
    }
   ],
   "source": [
    "dataframe['Band']"
   ]
  },
  {
   "cell_type": "markdown",
   "id": "76ea27f5",
   "metadata": {},
   "source": [
    "### Save the train and test dataframes"
   ]
  },
  {
   "cell_type": "code",
   "execution_count": 14,
   "id": "fa69814a",
   "metadata": {},
   "outputs": [],
   "source": [
    "dataframe.to_csv('../clean_data/all',index=False)"
   ]
  }
 ],
 "metadata": {
  "kernelspec": {
   "display_name": "Python 3 (ipykernel)",
   "language": "python",
   "name": "python3"
  },
  "language_info": {
   "codemirror_mode": {
    "name": "ipython",
    "version": 3
   },
   "file_extension": ".py",
   "mimetype": "text/x-python",
   "name": "python",
   "nbconvert_exporter": "python",
   "pygments_lexer": "ipython3",
   "version": "3.8.10"
  }
 },
 "nbformat": 4,
 "nbformat_minor": 5
}

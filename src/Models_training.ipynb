{
 "cells": [
  {
   "cell_type": "code",
   "execution_count": 61,
   "id": "44242ce3",
   "metadata": {},
   "outputs": [],
   "source": [
    "import pandas as pd\n",
    "import seaborn as sns\n",
    "\n",
    "dataset = pd.read_csv(\"../clean_data/initial_dataset\")"
   ]
  },
  {
   "cell_type": "code",
   "execution_count": 40,
   "id": "b10a1958",
   "metadata": {},
   "outputs": [],
   "source": [
    "from models import *"
   ]
  },
  {
   "cell_type": "code",
   "execution_count": 62,
   "id": "dccfbde9",
   "metadata": {},
   "outputs": [],
   "source": [
    "from sklearn.neighbors import KNeighborsClassifier\n",
    "\n",
    "best_f1 = 0\n",
    "k_range = range(2,15)\n",
    "for k in k_range:\n",
    "    model = KNeighborsClassifier(k)\n",
    "    train, test = cross_validate(model,dataset)\n",
    "    if test['f1_score'][0].mean() > best_f1:\n",
    "        best_f1 = test['f1_score'][0].mean()\n",
    "        best_params = model.get_params\n",
    "        train_saved = train\n",
    "        test_saved = test"
   ]
  },
  {
   "cell_type": "code",
   "execution_count": 63,
   "id": "d1b19754",
   "metadata": {},
   "outputs": [
    {
     "data": {
      "text/plain": [
       "{'precision': [array([0.72376873, 0.88622475, 0.68207431, 0.7439881 ]),\n",
       "  array([0.08605692, 0.08724108, 0.05126584, 0.13756084])],\n",
       " 'recall': [array([0.855, 0.79 , 0.775, 0.555]),\n",
       "  array([0.10234745, 0.08306624, 0.11779219, 0.11608187])],\n",
       " 'f1_score': [array([0.78072773, 0.83101835, 0.719641  , 0.62598782]),\n",
       "  array([0.10234745, 0.08306624, 0.11779219, 0.11608187])]}"
      ]
     },
     "execution_count": 63,
     "metadata": {},
     "output_type": "execute_result"
    }
   ],
   "source": [
    "test_saved"
   ]
  },
  {
   "cell_type": "code",
   "execution_count": 55,
   "id": "2fc52987",
   "metadata": {},
   "outputs": [],
   "source": [
    "model = KNeighborsClassifier(5)\n",
    "t1,t2 = cross_validate(model,dataset)"
   ]
  }
 ],
 "metadata": {
  "kernelspec": {
   "display_name": "Python 3 (ipykernel)",
   "language": "python",
   "name": "python3"
  },
  "language_info": {
   "codemirror_mode": {
    "name": "ipython",
    "version": 3
   },
   "file_extension": ".py",
   "mimetype": "text/x-python",
   "name": "python",
   "nbconvert_exporter": "python",
   "pygments_lexer": "ipython3",
   "version": "3.8.10"
  }
 },
 "nbformat": 4,
 "nbformat_minor": 5
}

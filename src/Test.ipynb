{
 "cells": [
  {
   "cell_type": "markdown",
   "id": "babc1dcd",
   "metadata": {},
   "source": [
    "### Clean the data"
   ]
  },
  {
   "cell_type": "code",
   "execution_count": 85,
   "id": "0638dd90",
   "metadata": {},
   "outputs": [],
   "source": [
    "from clean_data import *\n",
    "\n",
    "wavs_train, labels_train = raw_to_list('..\\\\raw_data\\\\train')\n",
    "wavs_test, labels_test = raw_to_list('..\\\\raw_data\\\\test')"
   ]
  },
  {
   "cell_type": "markdown",
   "id": "d57f1fa0",
   "metadata": {},
   "source": [
    "### Featurize"
   ]
  },
  {
   "cell_type": "code",
   "execution_count": 25,
   "id": "82e50ff1",
   "metadata": {},
   "outputs": [],
   "source": [
    "import pandas as pd\n",
    "import librosa\n",
    "from librosa import feature"
   ]
  },
  {
   "cell_type": "code",
   "execution_count": 80,
   "id": "889a3269",
   "metadata": {},
   "outputs": [],
   "source": [
    "y, sr = librosa.load(wavs_train[0])\n",
    "\n",
    "hp = 3000\n",
    "zcr = feature.zero_crossing_rate(y,hop_length=hp)\n",
    "mfcc = feature.mfcc(y=y,hop_length=hp)\n",
    "rms = feature.rms(y=y,hop_length=hp)\n",
    "sc = feature.spectral_centroid(y=y,hop_length=hp)\n",
    "ss = feature.spectral_rolloff(y=y,hop_length=hp)\n",
    "tmp = feature.tempo(y=y)\n",
    "mfcc = feature.mfcc(y=y,hop_length=hp)"
   ]
  },
  {
   "cell_type": "code",
   "execution_count": 79,
   "id": "bbfdb2c7",
   "metadata": {},
   "outputs": [
    {
     "data": {
      "text/plain": [
       "(1,)"
      ]
     },
     "execution_count": 79,
     "metadata": {},
     "output_type": "execute_result"
    }
   ],
   "source": [
    "tmp.shape"
   ]
  },
  {
   "cell_type": "code",
   "execution_count": 66,
   "id": "263aeb37",
   "metadata": {},
   "outputs": [
    {
     "data": {
      "text/plain": [
       "(20, 94)"
      ]
     },
     "execution_count": 66,
     "metadata": {},
     "output_type": "execute_result"
    }
   ],
   "source": [
    "mfcc.shape"
   ]
  },
  {
   "cell_type": "code",
   "execution_count": 81,
   "id": "e8412f9a",
   "metadata": {},
   "outputs": [],
   "source": [
    "from sklearn.preprocessing import LabelEncoder"
   ]
  },
  {
   "cell_type": "code",
   "execution_count": 83,
   "id": "9e570752",
   "metadata": {},
   "outputs": [
    {
     "data": {
      "text/plain": [
       "array([0, 0, 0, 0, 0, 0, 0, 0, 0, 0, 0, 0, 0, 0, 0, 0, 0, 0, 0, 0, 0, 0,\n",
       "       0, 0, 0, 0, 0, 0, 0, 0, 1, 1, 1, 1, 1, 1, 1, 1, 1, 1, 1, 1, 1, 1,\n",
       "       1, 1, 1, 1, 1, 1, 1, 1, 1, 1, 1, 1, 1, 1, 1, 1, 2, 2, 2, 2, 2, 2,\n",
       "       2, 2, 2, 2, 2, 2, 2, 2, 2, 2, 2, 2, 2, 2, 2, 2, 2, 2, 2, 2, 2, 2,\n",
       "       2, 2, 2, 2, 2, 2, 2], dtype=int64)"
      ]
     },
     "execution_count": 83,
     "metadata": {},
     "output_type": "execute_result"
    }
   ],
   "source": [
    "encoder = LabelEncoder()\n",
    "encoder.fit_transform(labels_train)"
   ]
  },
  {
   "cell_type": "code",
   "execution_count": 92,
   "id": "7af3051c",
   "metadata": {},
   "outputs": [],
   "source": [
    "import featurize"
   ]
  },
  {
   "cell_type": "code",
   "execution_count": 97,
   "id": "0eeddb43",
   "metadata": {},
   "outputs": [],
   "source": [
    "import pandas as pd\n",
    "import numpy as np\n",
    "import librosa\n",
    "from librosa import feature\n",
    "from sklearn.preprocessing import LabelEncoder\n",
    "\n",
    "def feauturizer(wavs,labels):\n",
    "\n",
    "    csv_matrix = []\n",
    "    hp = 3000  \n",
    "    for wav in wavs:   \n",
    "        y, _ = librosa.load(wav)\n",
    "        feature_vector = []\n",
    "\n",
    "        feature_vector.extend([feature.zero_crossing_rate(y,hop_length=hp),\n",
    "                               feature.rms(y=y,hop_length=hp),\n",
    "                               feature.spectral_centroid(y=y,hop_length=hp),\n",
    "                               feature.spectral_rolloff(y=y,hop_length=hp),\n",
    "                               feature.mfcc(y=y,hop_length=hp)])\n",
    "        \n",
    "        mean_features = [np.mean(feat) for feat in feature_vector]\n",
    "        csv_matrix.append(mean_features)\n",
    "\n",
    "    df_features = pd.DataFrame(csv_matrix, columns = ['zero_crossing_rate',\n",
    "                                                      'rms',\n",
    "                                                      'spectral_centroid',\n",
    "                                                      'spectral_rolloff',\n",
    "                                                      'mfcc'])\n",
    "    df_features.insert(-1,'Band',label_encoding(labels=labels),True)\n",
    "        \n",
    "    return df_features\n",
    "    \n",
    "def label_encoding(labels):\n",
    "    encoder = LabelEncoder()\n",
    "\n",
    "    return encoder.fit_transform(labels)"
   ]
  },
  {
   "cell_type": "code",
   "execution_count": 96,
   "id": "07f18db4",
   "metadata": {},
   "outputs": [
    {
     "ename": "NameError",
     "evalue": "name 'featurizer' is not defined",
     "output_type": "error",
     "traceback": [
      "\u001b[1;31m---------------------------------------------------------------------------\u001b[0m",
      "\u001b[1;31mNameError\u001b[0m                                 Traceback (most recent call last)",
      "Cell \u001b[1;32mIn[96], line 1\u001b[0m\n\u001b[1;32m----> 1\u001b[0m \u001b[43mfeaturizer\u001b[49m(wavs_train,labels_train)\n",
      "\u001b[1;31mNameError\u001b[0m: name 'featurizer' is not defined"
     ]
    }
   ],
   "source": [
    "featurizer(wavs_train,labels_train)"
   ]
  },
  {
   "cell_type": "code",
   "execution_count": null,
   "id": "508d8c42",
   "metadata": {},
   "outputs": [],
   "source": []
  }
 ],
 "metadata": {
  "kernelspec": {
   "display_name": "Python 3 (ipykernel)",
   "language": "python",
   "name": "python3"
  },
  "language_info": {
   "codemirror_mode": {
    "name": "ipython",
    "version": 3
   },
   "file_extension": ".py",
   "mimetype": "text/x-python",
   "name": "python",
   "nbconvert_exporter": "python",
   "pygments_lexer": "ipython3",
   "version": "3.8.10"
  }
 },
 "nbformat": 4,
 "nbformat_minor": 5
}

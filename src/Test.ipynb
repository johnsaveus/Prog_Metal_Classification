{
 "cells": [
  {
   "cell_type": "code",
   "execution_count": 7,
   "id": "a7884467",
   "metadata": {},
   "outputs": [
    {
     "ename": "ModuleNotFoundError",
     "evalue": "No module named 'raw_to_list'",
     "output_type": "error",
     "traceback": [
      "\u001b[1;31m---------------------------------------------------------------------------\u001b[0m",
      "\u001b[1;31mModuleNotFoundError\u001b[0m                       Traceback (most recent call last)",
      "Cell \u001b[1;32mIn[7], line 1\u001b[0m\n\u001b[1;32m----> 1\u001b[0m \u001b[38;5;28;01mimport\u001b[39;00m \u001b[38;5;21;01mraw_to_list\u001b[39;00m\n",
      "\u001b[1;31mModuleNotFoundError\u001b[0m: No module named 'raw_to_list'"
     ]
    }
   ],
   "source": [
    "from raw_to_list import raw_to_list"
   ]
  },
  {
   "cell_type": "code",
   "execution_count": 5,
   "id": "c766870d",
   "metadata": {},
   "outputs": [],
   "source": [
    "t1 , t2 = raw_to_list('..\\\\raw_data\\\\train')"
   ]
  },
  {
   "cell_type": "code",
   "execution_count": 6,
   "id": "690464f9",
   "metadata": {},
   "outputs": [
    {
     "data": {
      "text/plain": [
       "['..\\\\raw_data\\\\train\\\\Dream_Theater\\\\A dramatic turn of events\\\\Breaking All Illusions_riff.wav',\n",
       " '..\\\\raw_data\\\\train\\\\Dream_Theater\\\\A dramatic turn of events\\\\Bridges in the Sky_riff.wav',\n",
       " '..\\\\raw_data\\\\train\\\\Dream_Theater\\\\A dramatic turn of events\\\\Build Me Up And Break Me Down_riff.wav',\n",
       " '..\\\\raw_data\\\\train\\\\Dream_Theater\\\\A dramatic turn of events\\\\Lost Not Forgotten_riff.wav',\n",
       " '..\\\\raw_data\\\\train\\\\Dream_Theater\\\\A dramatic turn of events\\\\On The Backs Of Angels_riff.wav']"
      ]
     },
     "execution_count": 6,
     "metadata": {},
     "output_type": "execute_result"
    }
   ],
   "source": [
    "t1[:5]"
   ]
  },
  {
   "cell_type": "code",
   "execution_count": null,
   "id": "5d712daf",
   "metadata": {},
   "outputs": [],
   "source": []
  }
 ],
 "metadata": {
  "kernelspec": {
   "display_name": "Python 3 (ipykernel)",
   "language": "python",
   "name": "python3"
  },
  "language_info": {
   "codemirror_mode": {
    "name": "ipython",
    "version": 3
   },
   "file_extension": ".py",
   "mimetype": "text/x-python",
   "name": "python",
   "nbconvert_exporter": "python",
   "pygments_lexer": "ipython3",
   "version": "3.8.10"
  }
 },
 "nbformat": 4,
 "nbformat_minor": 5
}

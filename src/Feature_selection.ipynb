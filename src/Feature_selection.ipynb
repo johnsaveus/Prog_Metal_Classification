{
 "cells": [
  {
   "cell_type": "code",
   "execution_count": 23,
   "id": "6aed0ccf",
   "metadata": {},
   "outputs": [],
   "source": [
    "import pandas as pd\n",
    "\n",
    "dataset = pd.read_csv(\"../clean_data/all\")"
   ]
  },
  {
   "cell_type": "code",
   "execution_count": 24,
   "id": "77c098a1",
   "metadata": {},
   "outputs": [],
   "source": [
    "from feature_selection import correlation_drop"
   ]
  },
  {
   "cell_type": "code",
   "execution_count": 25,
   "id": "0d2aff1a",
   "metadata": {},
   "outputs": [],
   "source": [
    "new_data , ff, pairs = correlation_drop(dataset,0.85)"
   ]
  },
  {
   "cell_type": "code",
   "execution_count": 28,
   "id": "f7f5eb58",
   "metadata": {},
   "outputs": [],
   "source": [
    "corr = new_data.corr()\n",
    "y = corr['Band'].sort_values(ascending=False)"
   ]
  },
  {
   "cell_type": "code",
   "execution_count": 36,
   "id": "cfa28331",
   "metadata": {},
   "outputs": [
    {
     "data": {
      "text/plain": [
       "Band                            1.000000\n",
       "mfcc_8_mean                     0.357233\n",
       "mfcc_3_mean                     0.310751\n",
       "mfcc_12_mean                    0.309622\n",
       "mfcc_10_mean                    0.276860\n",
       "chroma_9_mean                   0.247734\n",
       "delta mfcc_6_mean               0.242722\n",
       "delta chroma_12_mean            0.158345\n",
       "delta mfcc_13_std               0.142099\n",
       "delta mfcc_5_mean               0.139185\n",
       "delta chroma_10_mean            0.133525\n",
       "mfcc_7_mean                     0.128805\n",
       "mfcc_10_std                     0.122650\n",
       "delta chroma_std_mean           0.117185\n",
       "delta energy_mean               0.116847\n",
       "delta mfcc_11_std               0.115561\n",
       "mfcc_11_std                     0.115373\n",
       "chroma_2_mean                   0.115360\n",
       "mfcc_13_std                     0.113343\n",
       "delta mfcc_3_mean               0.109770\n",
       "delta mfcc_10_std               0.102525\n",
       "delta mfcc_7_mean               0.093290\n",
       "delta mfcc_12_mean              0.089746\n",
       "delta mfcc_10_mean              0.086602\n",
       "delta spectral_spread_mean      0.086245\n",
       "delta mfcc_11_mean              0.085871\n",
       "delta chroma_11_mean            0.082865\n",
       "mfcc_13_mean                    0.082150\n",
       "delta chroma_7_mean             0.070724\n",
       "zcr_mean                        0.065222\n",
       "chroma_7_mean                   0.063486\n",
       "chroma_6_mean                   0.062349\n",
       "mfcc_12_std                     0.056308\n",
       "delta chroma_3_mean             0.055096\n",
       "delta chroma_2_mean             0.045792\n",
       "mfcc_8_std                      0.040675\n",
       "mfcc_5_std                      0.036053\n",
       "chroma_8_mean                   0.034565\n",
       "delta mfcc_8_mean               0.034327\n",
       "delta chroma_6_mean             0.033517\n",
       "spectral_centroid_mean          0.022617\n",
       "delta mfcc_4_mean               0.022508\n",
       "delta mfcc_13_mean              0.020718\n",
       "delta mfcc_8_std                0.017190\n",
       "delta mfcc_5_std                0.013416\n",
       "delta chroma_4_mean             0.003986\n",
       "mfcc_4_std                      0.003658\n",
       "delta spectral_centroid_mean    0.002007\n",
       "delta mfcc_9_mean              -0.001473\n",
       "delta chroma_5_mean            -0.002140\n",
       "Name: Band, dtype: float64"
      ]
     },
     "execution_count": 36,
     "metadata": {},
     "output_type": "execute_result"
    }
   ],
   "source": [
    "y[:50]"
   ]
  },
  {
   "cell_type": "code",
   "execution_count": 16,
   "id": "af6df053",
   "metadata": {},
   "outputs": [],
   "source": [
    "from sklearn.model_selection import cross_val_score\n",
    "from sklearn.ensemble import RandomForestClassifier\n",
    "\n",
    "rfclassifier = RandomForestClassifier(n_estimators=30)\n",
    "scores = cross_val_score(\n",
    "    estimator=rfclassifier, # model to evaluate \n",
    "    X=new_data.drop(['Band'],axis=1), # inputs features\n",
    "    y=new_data['Band'],# output labels\n",
    "    cv=20, # how many folds\n",
    "    scoring='accuracy') # model evaluation metric)\n"
   ]
  },
  {
   "cell_type": "code",
   "execution_count": 17,
   "id": "ab0c72ca",
   "metadata": {},
   "outputs": [
    {
     "data": {
      "text/plain": [
       "array([0.9, 0.8, 0.7, 0.6, 0.8, 0.5, 0.8, 0.5, 0.1, 0.9, 0.9, 0.9, 0.6,\n",
       "       0.6, 0.8, 0.5, 0.7, 0.8, 0.7, 0.5])"
      ]
     },
     "execution_count": 17,
     "metadata": {},
     "output_type": "execute_result"
    }
   ],
   "source": [
    "scores"
   ]
  },
  {
   "cell_type": "code",
   "execution_count": null,
   "id": "26e1f6ec",
   "metadata": {},
   "outputs": [],
   "source": []
  }
 ],
 "metadata": {
  "kernelspec": {
   "display_name": "Python 3 (ipykernel)",
   "language": "python",
   "name": "python3"
  },
  "language_info": {
   "codemirror_mode": {
    "name": "ipython",
    "version": 3
   },
   "file_extension": ".py",
   "mimetype": "text/x-python",
   "name": "python",
   "nbconvert_exporter": "python",
   "pygments_lexer": "ipython3",
   "version": "3.8.10"
  }
 },
 "nbformat": 4,
 "nbformat_minor": 5
}
